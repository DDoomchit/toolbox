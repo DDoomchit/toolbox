{
 "cells": [
  {
   "cell_type": "raw",
   "metadata": {
    "vscode": {
     "languageId": "raw"
    }
   },
   "source": [
    "---\n",
    "title: \"hw1 : 12월 26일 숙제\"\n",
    "author: \"이상민\"\n",
    "date: \"12/26/2024\"\n",
    "---"
   ]
  },
  {
   "cell_type": "code",
   "execution_count": 2,
   "metadata": {},
   "outputs": [
    {
     "name": "stdout",
     "output_type": "stream",
     "text": [
      "This is the first line.\n",
      "Here is the second line.\n",
      "The third line is also here.\n"
     ]
    }
   ],
   "source": [
    "# 1. head: 파일의 처음 몇 줄 출력\n",
    "!head -n 3 sample.txt"
   ]
  },
  {
   "cell_type": "code",
   "execution_count": 3,
   "metadata": {},
   "outputs": [
    {
     "name": "stdout",
     "output_type": "stream",
     "text": [
      "The third line is also here.\n",
      "Line number four contains an error.\n",
      "And finally, line number five."
     ]
    }
   ],
   "source": [
    "# 2. tail: 파일의 마지막 몇 줄 출력\n",
    "!tail -n 3 sample.txt"
   ]
  },
  {
   "cell_type": "code",
   "execution_count": 4,
   "metadata": {},
   "outputs": [
    {
     "name": "stdout",
     "output_type": "stream",
     "text": [
      "This is the first line.\n",
      "Here is the second line.\n",
      "The third line is also here.\n",
      "Line number four contains an error.\n",
      "And finally, line number five."
     ]
    }
   ],
   "source": [
    "# 3. cat: 파일 내용 출력\n",
    "!cat sample.txt"
   ]
  },
  {
   "cell_type": "code",
   "execution_count": 5,
   "metadata": {},
   "outputs": [],
   "source": [
    "# cat: 파일 합치기\n",
    "!cat file1.txt file2.txt > combined.txt"
   ]
  },
  {
   "cell_type": "code",
   "execution_count": 6,
   "metadata": {},
   "outputs": [
    {
     "name": "stdout",
     "output_type": "stream",
     "text": [
      "Filesystem      Size  Used Avail Use% Mounted on\n",
      "overlay          32G   12G   19G  39% /\n",
      "tmpfs            64M     0   64M   0% /dev\n",
      "shm              64M  8.0K   64M   1% /dev/shm\n",
      "/dev/root        29G   25G  4.6G  85% /vscode\n",
      "/dev/sdb1        44G   18G   25G  43% /tmp\n",
      "/dev/loop4       32G   12G   19G  39% /workspaces\n"
     ]
    }
   ],
   "source": [
    "# 4. df -h: 디스크 사용량 확인\n",
    "!df -h"
   ]
  },
  {
   "cell_type": "code",
   "execution_count": null,
   "metadata": {},
   "outputs": [],
   "source": [
    "\n",
    "# 5. du -sh *: 디렉토리 및 파일 크기 확인\n",
    "!du -sh *\n",
    "\n",
    "# 6. nvidia-smi: GPU 상태 확인\n",
    "!nvidia-smi\n",
    "\n",
    "# 7. ps aux: 현재 실행 중인 프로세스 확인\n",
    "ps aux\n",
    "\n",
    "# 8. grep: 특정 문자열 검색\n",
    "grep \"error\" sample.txt\n",
    "\n",
    "# 9. |: 파이프를 사용하여 명령어 결합\n",
    "ps aux | grep python\n",
    "\n",
    "# 10. >: 출력 결과를 파일로 저장\n",
    "df -h > disk_usage.txt\n",
    "\n",
    "# 11. which: 명령어의 실행 파일 경로 확인\n",
    "which python\n",
    "\n",
    "# 12. find: 파일 검색\n",
    "find . -name \"sample.txt\"\n",
    "\n",
    "# 13. pwd: 현재 위치 확인\n",
    "pwd "
   ]
  },
  {
   "cell_type": "code",
   "execution_count": null,
   "metadata": {},
   "outputs": [],
   "source": []
  },
  {
   "cell_type": "code",
   "execution_count": null,
   "metadata": {},
   "outputs": [],
   "source": []
  },
  {
   "cell_type": "code",
   "execution_count": null,
   "metadata": {},
   "outputs": [],
   "source": []
  },
  {
   "cell_type": "code",
   "execution_count": null,
   "metadata": {},
   "outputs": [],
   "source": []
  },
  {
   "cell_type": "code",
   "execution_count": null,
   "metadata": {},
   "outputs": [],
   "source": [
    "아래를 실행해보고 사용방법을 확인하라. \n",
    "\n",
    "# 1. head: 파일의 처음 몇 줄 출력\n",
    "head -n 3 sample.txt\n",
    "\n",
    "# 2. tail: 파일의 마지막 몇 줄 출력\n",
    "tail -n 3 sample.txt\n",
    "\n",
    "# 3. cat: 파일 내용 출력\n",
    "cat sample.txt\n",
    "\n",
    "# cat: 파일 합치기\n",
    "cat file1.txt file2.txt > combined.txt\n",
    "\n",
    "# 4. df -h: 디스크 사용량 확인\n",
    "df -h\n",
    "\n",
    "# 5. du -sh *: 디렉토리 및 파일 크기 확인\n",
    "du -sh *\n",
    "\n",
    "# 6. nvidia-smi: GPU 상태 확인\n",
    "nvidia-smi\n",
    "\n",
    "# 7. ps aux: 현재 실행 중인 프로세스 확인\n",
    "ps aux\n",
    "\n",
    "# 8. grep: 특정 문자열 검색\n",
    "grep \"error\" sample.txt\n",
    "\n",
    "# 9. |: 파이프를 사용하여 명령어 결합\n",
    "ps aux | grep python\n",
    "\n",
    "# 10. >: 출력 결과를 파일로 저장\n",
    "df -h > disk_usage.txt\n",
    "\n",
    "# 11. which: 명령어의 실행 파일 경로 확인\n",
    "which python\n",
    "\n",
    "# 12. find: 파일 검색\n",
    "find . -name \"sample.txt\"\n",
    "\n",
    "# 13. pwd: 현재 위치 확인\n",
    "pwd "
   ]
  }
 ],
 "metadata": {
  "kernelspec": {
   "display_name": "Python 3",
   "language": "python",
   "name": "python3"
  },
  "language_info": {
   "codemirror_mode": {
    "name": "ipython",
    "version": 3
   },
   "file_extension": ".py",
   "mimetype": "text/x-python",
   "name": "python",
   "nbconvert_exporter": "python",
   "pygments_lexer": "ipython3",
   "version": "3.12.1"
  }
 },
 "nbformat": 4,
 "nbformat_minor": 2
}
