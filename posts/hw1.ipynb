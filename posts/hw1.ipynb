{
 "cells": [
  {
   "cell_type": "raw",
   "metadata": {
    "vscode": {
     "languageId": "raw"
    }
   },
   "source": [
    "---\n",
    "title: \"hw1 : 12월 26일 숙제/ publish 사용\"\n",
    "author: \"이상민\"\n",
    "date: \"12/26/2024\"\n",
    "---"
   ]
  },
  {
   "cell_type": "code",
   "execution_count": 2,
   "metadata": {},
   "outputs": [
    {
     "name": "stdout",
     "output_type": "stream",
     "text": [
      "This is the first line.\n",
      "Here is the second line.\n",
      "The third line is also here.\n"
     ]
    }
   ],
   "source": [
    "# 1. head: 파일의 처음 몇 줄 출력\n",
    "!head -n 3 sample.txt"
   ]
  },
  {
   "cell_type": "code",
   "execution_count": 3,
   "metadata": {},
   "outputs": [
    {
     "name": "stdout",
     "output_type": "stream",
     "text": [
      "The third line is also here.\n",
      "Line number four contains an error.\n",
      "And finally, line number five."
     ]
    }
   ],
   "source": [
    "# 2. tail: 파일의 마지막 몇 줄 출력\n",
    "!tail -n 3 sample.txt"
   ]
  },
  {
   "cell_type": "code",
   "execution_count": 4,
   "metadata": {},
   "outputs": [
    {
     "name": "stdout",
     "output_type": "stream",
     "text": [
      "This is the first line.\n",
      "Here is the second line.\n",
      "The third line is also here.\n",
      "Line number four contains an error.\n",
      "And finally, line number five."
     ]
    }
   ],
   "source": [
    "# 3. cat: 파일 내용 출력\n",
    "!cat sample.txt"
   ]
  },
  {
   "cell_type": "code",
   "execution_count": 5,
   "metadata": {},
   "outputs": [],
   "source": [
    "# cat: 파일 합치기\n",
    "!cat file1.txt file2.txt > combined.txt"
   ]
  },
  {
   "cell_type": "code",
   "execution_count": 6,
   "metadata": {},
   "outputs": [
    {
     "name": "stdout",
     "output_type": "stream",
     "text": [
      "Filesystem      Size  Used Avail Use% Mounted on\n",
      "overlay          32G   12G   19G  39% /\n",
      "tmpfs            64M     0   64M   0% /dev\n",
      "shm              64M  8.0K   64M   1% /dev/shm\n",
      "/dev/root        29G   25G  4.6G  85% /vscode\n",
      "/dev/sdb1        44G   18G   25G  43% /tmp\n",
      "/dev/loop4       32G   12G   19G  39% /workspaces\n"
     ]
    }
   ],
   "source": [
    "# 4. df -h: 디스크 사용량 확인\n",
    "!df -h"
   ]
  },
  {
   "cell_type": "code",
   "execution_count": 7,
   "metadata": {},
   "outputs": [
    {
     "name": "stdout",
     "output_type": "stream",
     "text": [
      "4.0K\t_metadata.yml\n",
      "4.0K\tcombined.txt\n",
      "1.1M\tday1.ipynb\n",
      "4.0K\tfile1.txt\n",
      "4.0K\tfile2.txt\n",
      "8.0K\thw1.ipynb\n",
      "4.0K\thw1.txt\n",
      "4.0K\tsample.txt\n",
      "12K\tsandwich.png\n",
      "80K\ttitanic.csv\n"
     ]
    }
   ],
   "source": [
    "# 5. du -sh *: 디렉토리 및 파일 크기 확인\n",
    "!du -sh *"
   ]
  },
  {
   "cell_type": "code",
   "execution_count": 8,
   "metadata": {},
   "outputs": [
    {
     "name": "stdout",
     "output_type": "stream",
     "text": [
      "/bin/bash: nvidia-smi: command not found\n"
     ]
    }
   ],
   "source": [
    "# 6. nvidia-smi: GPU 상태 확인\n",
    "!nvidia-smi"
   ]
  },
  {
   "cell_type": "code",
   "execution_count": 9,
   "metadata": {},
   "outputs": [
    {
     "name": "stdout",
     "output_type": "stream",
     "text": [
      "USER         PID %CPU %MEM    VSZ   RSS TTY      STAT START   TIME COMMAND\n",
      "codespa+       1  0.0  0.0   1136   128 ?        Ss   04:02   0:00 /sbin/docker-\n",
      "codespa+       8  0.0  0.0   7236  1792 ?        S    04:02   0:00 sleep infinit\n",
      "root          88  0.0  0.0  12196  3612 ?        Ss   04:03   0:00 sshd: /usr/sb\n",
      "root         991  0.0  0.9 1983004 78072 ?       Sl   04:03   0:00 dockerd --dns\n",
      "root         998  0.0  0.5 1798848 46180 ?       Ssl  04:03   0:02 containerd --\n",
      "codespa+    2343  0.0  0.0   2616  1408 ?        Ss   04:27   0:00 /bin/sh\n",
      "root        2374  0.0  0.0   2616  1536 ?        Ss   04:27   0:00 /bin/sh\n",
      "codespa+    2516  0.0  0.0   2624  1664 ?        Ss   04:27   0:00 sh /home/code\n",
      "codespa+    2526  2.3  1.5 11836452 129848 ?     Sl   04:27   0:51 /vscode/bin/l\n",
      "codespa+    2547  2.2  6.2 43789328 508300 ?     Sl   04:27   0:49 /vscode/bin/l\n",
      "codespa+    2561  0.4  1.1 11858340 91756 ?      Sl   04:27   0:09 /vscode/bin/l\n",
      "codespa+    3017  0.1  0.8 11605720 70168 ?      Sl   04:27   0:03 /vscode/bin/l\n",
      "codespa+    3472  0.0  0.8 1165448 67344 ?       Sl   04:27   0:00 /vscode/bin/l\n",
      "codespa+    3966  0.0  0.0   2616  1536 ?        Ss   04:28   0:00 /bin/sh\n",
      "root        4020  0.0  0.0   2616  1408 ?        Ss   04:28   0:00 /bin/sh\n",
      "codespa+    4248  0.0  0.1  16808 12028 pts/2    Ss+  04:28   0:00 /bin/bash --i\n",
      "codespa+   16538  0.0  0.7 11647396 64364 ?      Sl   04:54   0:00 /vscode/bin/l\n",
      "codespa+   16764  1.1  4.2 1503896 343204 ?      Sl   04:55   0:06 /home/codespa\n",
      "codespa+   16765  1.5  2.1 11878568 177044 ?     Sl   04:55   0:08 /vscode/bin/l\n",
      "codespa+   16789  0.0  0.1  16680 11648 pts/0    Ss+  04:55   0:00 /bin/bash --i\n",
      "codespa+   17259  5.1  4.0 1912884 327640 ?      Sl   04:55   0:28 /vscode/bin/l\n",
      "codespa+   17668  0.1  0.8 757020 69832 ?        Sl   04:56   0:01 /home/codespa\n",
      "codespa+   21567  0.0  0.0  10624  3200 pts/3    Rs+  05:04   0:00 ps aux\n",
      "root       21568  0.0  0.1 1605924 12328 ?       Ssl  05:04   0:00 runc init\n"
     ]
    }
   ],
   "source": [
    "# 7. ps aux: 현재 실행 중인 프로세스 확인\n",
    "!ps aux"
   ]
  },
  {
   "cell_type": "code",
   "execution_count": 10,
   "metadata": {},
   "outputs": [
    {
     "name": "stdout",
     "output_type": "stream",
     "text": [
      "Line number four contains an error.\n"
     ]
    }
   ],
   "source": [
    "# 8. grep: 특정 문자열 검색\n",
    "!grep \"error\" sample.txt\n"
   ]
  },
  {
   "cell_type": "code",
   "execution_count": 11,
   "metadata": {},
   "outputs": [
    {
     "name": "stdout",
     "output_type": "stream",
     "text": [
      "codespa+   17259  5.0  4.0 1912884 326820 ?      Sl   04:55   0:28 /vscode/bin/linux-x64/fabdb6a30b49f79a7aba0f2ad9df9b399473380f/node /home/codespace/.vscode-remote/extensions/ms-python.vscode-pylance-2024.12.1/dist/server.bundle.js --cancellationReceive=file:4e9c804134f3818198d9c18dbf1a336d4c6559fe7a --node-ipc --clientProcessId=2547\n",
      "codespa+   17668  0.1  0.8 757020 69832 ?        Sl   04:56   0:01 /home/codespace/.python/current/bin/python3 -m ipykernel_launcher --f=/home/codespace/.local/share/jupyter/runtime/kernel-v3c1efc6389e60eb07ab64630be7dc9449cac41ad8.json\n",
      "codespa+   21588  0.0  0.0   8628  3328 pts/3    Ss+  05:04   0:00 /bin/bash -c ps aux | grep python\n",
      "codespa+   21590  0.0  0.0   8172  2432 pts/3    S+   05:04   0:00 grep python\n"
     ]
    }
   ],
   "source": [
    "\n",
    "# 9. |: 파이프를 사용하여 명령어 결합\n",
    "!ps aux | grep python\n"
   ]
  },
  {
   "cell_type": "code",
   "execution_count": 12,
   "metadata": {},
   "outputs": [],
   "source": [
    "\n",
    "# 10. >: 출력 결과를 파일로 저장\n",
    "!df -h > disk_usage.txt"
   ]
  },
  {
   "cell_type": "code",
   "execution_count": 13,
   "metadata": {},
   "outputs": [
    {
     "name": "stdout",
     "output_type": "stream",
     "text": [
      "/home/codespace/.python/current/bin/python\n"
     ]
    }
   ],
   "source": [
    "\n",
    "# 11. which: 명령어의 실행 파일 경로 확인\n",
    "!which python"
   ]
  },
  {
   "cell_type": "code",
   "execution_count": 14,
   "metadata": {},
   "outputs": [
    {
     "name": "stdout",
     "output_type": "stream",
     "text": [
      "./sample.txt\n"
     ]
    }
   ],
   "source": [
    "# 12. find: 파일 검색\n",
    "!find . -name \"sample.txt\""
   ]
  },
  {
   "cell_type": "code",
   "execution_count": 15,
   "metadata": {},
   "outputs": [
    {
     "name": "stdout",
     "output_type": "stream",
     "text": [
      "/workspaces/toolbox/posts\n"
     ]
    }
   ],
   "source": [
    "# 13. pwd: 현재 위치 확인\n",
    "!pwd "
   ]
  }
 ],
 "metadata": {
  "kernelspec": {
   "display_name": "Python 3",
   "language": "python",
   "name": "python3"
  },
  "language_info": {
   "codemirror_mode": {
    "name": "ipython",
    "version": 3
   },
   "file_extension": ".py",
   "mimetype": "text/x-python",
   "name": "python",
   "nbconvert_exporter": "python",
   "pygments_lexer": "ipython3",
   "version": "3.12.1"
  }
 },
 "nbformat": 4,
 "nbformat_minor": 2
}
